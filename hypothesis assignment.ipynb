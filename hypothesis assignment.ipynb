{
 "cells": [
  {
   "cell_type": "code",
   "execution_count": 1,
   "id": "1b384eb1",
   "metadata": {},
   "outputs": [],
   "source": [
    "import numpy as np\n",
    "import matplotlib.pyplot as plt\n",
    "import pandas as pd\n",
    "import seaborn as sns"
   ]
  },
  {
   "cell_type": "code",
   "execution_count": 2,
   "id": "a212c37c",
   "metadata": {},
   "outputs": [],
   "source": [
    "data=pd.read_csv(\"/home/neethu/Downloads/Sales_add.csv\")"
   ]
  },
  {
   "cell_type": "code",
   "execution_count": 3,
   "id": "fbfd985a",
   "metadata": {},
   "outputs": [
    {
     "data": {
      "text/html": [
       "<div>\n",
       "<style scoped>\n",
       "    .dataframe tbody tr th:only-of-type {\n",
       "        vertical-align: middle;\n",
       "    }\n",
       "\n",
       "    .dataframe tbody tr th {\n",
       "        vertical-align: top;\n",
       "    }\n",
       "\n",
       "    .dataframe thead th {\n",
       "        text-align: right;\n",
       "    }\n",
       "</style>\n",
       "<table border=\"1\" class=\"dataframe\">\n",
       "  <thead>\n",
       "    <tr style=\"text-align: right;\">\n",
       "      <th></th>\n",
       "      <th>Month</th>\n",
       "      <th>Region</th>\n",
       "      <th>Manager</th>\n",
       "      <th>Sales_before_digital_add(in $)</th>\n",
       "      <th>Sales_After_digital_add(in $)</th>\n",
       "    </tr>\n",
       "  </thead>\n",
       "  <tbody>\n",
       "    <tr>\n",
       "      <th>0</th>\n",
       "      <td>Month-1</td>\n",
       "      <td>Region - A</td>\n",
       "      <td>Manager - A</td>\n",
       "      <td>132921</td>\n",
       "      <td>270390</td>\n",
       "    </tr>\n",
       "    <tr>\n",
       "      <th>1</th>\n",
       "      <td>Month-2</td>\n",
       "      <td>Region - A</td>\n",
       "      <td>Manager - C</td>\n",
       "      <td>149559</td>\n",
       "      <td>223334</td>\n",
       "    </tr>\n",
       "    <tr>\n",
       "      <th>2</th>\n",
       "      <td>Month-3</td>\n",
       "      <td>Region - B</td>\n",
       "      <td>Manager - A</td>\n",
       "      <td>146278</td>\n",
       "      <td>244243</td>\n",
       "    </tr>\n",
       "    <tr>\n",
       "      <th>3</th>\n",
       "      <td>Month-4</td>\n",
       "      <td>Region - B</td>\n",
       "      <td>Manager - B</td>\n",
       "      <td>152167</td>\n",
       "      <td>231808</td>\n",
       "    </tr>\n",
       "    <tr>\n",
       "      <th>4</th>\n",
       "      <td>Month-5</td>\n",
       "      <td>Region - C</td>\n",
       "      <td>Manager - B</td>\n",
       "      <td>159525</td>\n",
       "      <td>258402</td>\n",
       "    </tr>\n",
       "  </tbody>\n",
       "</table>\n",
       "</div>"
      ],
      "text/plain": [
       "     Month      Region      Manager  Sales_before_digital_add(in $)  \\\n",
       "0  Month-1  Region - A  Manager - A                          132921   \n",
       "1  Month-2  Region - A  Manager - C                          149559   \n",
       "2  Month-3  Region - B  Manager - A                          146278   \n",
       "3  Month-4  Region - B  Manager - B                          152167   \n",
       "4  Month-5  Region - C  Manager - B                          159525   \n",
       "\n",
       "   Sales_After_digital_add(in $)  \n",
       "0                         270390  \n",
       "1                         223334  \n",
       "2                         244243  \n",
       "3                         231808  \n",
       "4                         258402  "
      ]
     },
     "execution_count": 3,
     "metadata": {},
     "output_type": "execute_result"
    }
   ],
   "source": [
    "data.head()"
   ]
  },
  {
   "cell_type": "code",
   "execution_count": 10,
   "id": "306fb25d",
   "metadata": {},
   "outputs": [],
   "source": [
    "from scipy.stats import ttest_1samp\n",
    "from scipy import stats\n"
   ]
  },
  {
   "cell_type": "code",
   "execution_count": 6,
   "id": "82032e88",
   "metadata": {},
   "outputs": [],
   "source": [
    "before = data['Sales_before_digital_add(in $)']\n",
    "after = data['Sales_After_digital_add(in $)']\n"
   ]
  },
  {
   "cell_type": "markdown",
   "id": "8db13f87",
   "metadata": {},
   "source": [
    "# # Hypothesis testing for sales increase after stepping into digital marketing\n",
    "\n"
   ]
  },
  {
   "cell_type": "markdown",
   "id": "02874ab9",
   "metadata": {},
   "source": [
    "# Separate the data into two groups: before and after digital marketing"
   ]
  },
  {
   "cell_type": "code",
   "execution_count": 7,
   "id": "a65841ae",
   "metadata": {},
   "outputs": [
    {
     "name": "stdout",
     "output_type": "stream",
     "text": [
      "0     132921\n",
      "1     149559\n",
      "2     146278\n",
      "3     152167\n",
      "4     159525\n",
      "5     137163\n",
      "6     130625\n",
      "7     131140\n",
      "8     171259\n",
      "9     141956\n",
      "10    159339\n",
      "11    178939\n",
      "12    145062\n",
      "13    151514\n",
      "14    147463\n",
      "15    177195\n",
      "16    140862\n",
      "17    167996\n",
      "18    132135\n",
      "19    152493\n",
      "20    147425\n",
      "21    130263\n",
      "Name: Sales_before_digital_add(in $), dtype: int64\n"
     ]
    }
   ],
   "source": [
    "print(before)"
   ]
  },
  {
   "cell_type": "code",
   "execution_count": 8,
   "id": "93afe391",
   "metadata": {},
   "outputs": [
    {
     "name": "stdout",
     "output_type": "stream",
     "text": [
      "0     270390\n",
      "1     223334\n",
      "2     244243\n",
      "3     231808\n",
      "4     258402\n",
      "5     256948\n",
      "6     222106\n",
      "7     230637\n",
      "8     226261\n",
      "9     193735\n",
      "10    203175\n",
      "11    276279\n",
      "12    205180\n",
      "13    253131\n",
      "14    229336\n",
      "15    187305\n",
      "16    234908\n",
      "17    191517\n",
      "18    227040\n",
      "19    212579\n",
      "20    263388\n",
      "21    243020\n",
      "Name: Sales_After_digital_add(in $), dtype: int64\n"
     ]
    }
   ],
   "source": [
    "print(after)"
   ]
  },
  {
   "cell_type": "markdown",
   "id": "edea6473",
   "metadata": {},
   "source": [
    "# Perform paired t-test"
   ]
  },
  {
   "cell_type": "code",
   "execution_count": 11,
   "id": "e0970004",
   "metadata": {},
   "outputs": [],
   "source": [
    "t_statistic, p_value = stats.ttest_rel(before, after)"
   ]
  },
  {
   "cell_type": "code",
   "execution_count": 15,
   "id": "ab3e88b6",
   "metadata": {},
   "outputs": [
    {
     "name": "stdout",
     "output_type": "stream",
     "text": [
      "-12.09070525287017\n",
      "6.336667004575778e-11\n"
     ]
    }
   ],
   "source": [
    "print(t_statistic)\n",
    "print(p_value)"
   ]
  },
  {
   "cell_type": "markdown",
   "id": "0e813806",
   "metadata": {},
   "source": [
    "# Check the p-value against the significance level"
   ]
  },
  {
   "cell_type": "markdown",
   "id": "ebd72285",
   "metadata": {},
   "source": [
    "Null hypothesis (H0): There is no increase in sales after stepping into digital marketing.\n",
    "Alternative hypothesis (Ha): There is an increase in sales after stepping into digital marketing."
   ]
  },
  {
   "cell_type": "code",
   "execution_count": 16,
   "id": "0630f4c9",
   "metadata": {},
   "outputs": [
    {
     "name": "stdout",
     "output_type": "stream",
     "text": [
      "There is a significant increase in sales after stepping into digital marketing.\n"
     ]
    }
   ],
   "source": [
    "alpha = 0.05\n",
    "if p_value < alpha:\n",
    "    print(\"There is a significant increase in sales after stepping into digital marketing.\")\n",
    "else:\n",
    "    print(\"There is no significant increase in sales after stepping into digital marketing.\")"
   ]
  },
  {
   "cell_type": "code",
   "execution_count": 14,
   "id": "f8a95688",
   "metadata": {},
   "outputs": [
    {
     "data": {
      "text/plain": [
       "6.336667004575778e-11"
      ]
     },
     "execution_count": 14,
     "metadata": {},
     "output_type": "execute_result"
    }
   ],
   "source": [
    " p_value"
   ]
  },
  {
   "cell_type": "markdown",
   "id": "33844d16",
   "metadata": {},
   "source": [
    "# Dependency between \"Region\" and \"Manager\"\n",
    "# Create a contingency table"
   ]
  },
  {
   "cell_type": "code",
   "execution_count": 17,
   "id": "8eb0a772",
   "metadata": {},
   "outputs": [],
   "source": [
    "contingency_table = pd.crosstab(data['Region'], data['Manager'])"
   ]
  },
  {
   "cell_type": "markdown",
   "id": "5ecc0899",
   "metadata": {},
   "source": [
    "# Perform chi-square test of independence"
   ]
  },
  {
   "cell_type": "code",
   "execution_count": 19,
   "id": "ca8eb7b8",
   "metadata": {},
   "outputs": [],
   "source": [
    "from scipy.stats import chi2_contingency"
   ]
  },
  {
   "cell_type": "code",
   "execution_count": 21,
   "id": "399ce95a",
   "metadata": {},
   "outputs": [],
   "source": [
    "chi2_stat, p_value2, dof, expected = chi2_contingency(contingency_table)"
   ]
  },
  {
   "cell_type": "code",
   "execution_count": 22,
   "id": "9d00bbff",
   "metadata": {},
   "outputs": [
    {
     "name": "stdout",
     "output_type": "stream",
     "text": [
      "0.5493991051158094\n"
     ]
    }
   ],
   "source": [
    "print(p_value2)"
   ]
  },
  {
   "cell_type": "markdown",
   "id": "c789da26",
   "metadata": {},
   "source": [
    "# # Check the p-value against the significance level"
   ]
  },
  {
   "cell_type": "code",
   "execution_count": 23,
   "id": "ace2ed44",
   "metadata": {},
   "outputs": [
    {
     "name": "stdout",
     "output_type": "stream",
     "text": [
      "There is no dependency between Region and Manager.\n"
     ]
    }
   ],
   "source": [
    "\n",
    "alpha = 0.05\n",
    "if p_value2 < alpha:\n",
    "    print(\"There is a dependency between Region and Manager.\")\n",
    "else:\n",
    "    print(\"There is no dependency between Region and Manager.\")"
   ]
  },
  {
   "cell_type": "markdown",
   "id": "a5bcaf77",
   "metadata": {},
   "source": [
    "# plots\n"
   ]
  },
  {
   "cell_type": "code",
   "execution_count": 26,
   "id": "ed71efe0",
   "metadata": {},
   "outputs": [
    {
     "data": {
      "image/png": "[encoded data removed]",
      "text/plain": [
       "<Figure size 640x480 with 1 Axes>"
      ]
     },
     "metadata": {},
     "output_type": "display_data"
    }
   ],
   "source": [
    "plt.plot(data['Month'], data['Sales_before_digital_add(in $)'], label='Sales Before Digital Marketing')\n",
    "plt.plot(data['Month'], data['Sales_After_digital_add(in $)'], label='Sales After Digital Marketing')\n",
    "plt.xlabel('Month')\n",
    "plt.ylabel('Sales (in $)')\n",
    "plt.title('Sales Before and After Digital Marketing')\n",
    "plt.xticks(rotation=45)\n",
    "plt.legend()\n",
    "plt.show()"
   ]
  },
  {
   "cell_type": "code",
   "execution_count": null,
   "id": "f1a49648",
   "metadata": {},
   "outputs": [],
   "source": []
  }
 ],
 "metadata": {
  "kernelspec": {
   "display_name": "Python 3 (ipykernel)",
   "language": "python",
   "name": "python3"
  },
  "language_info": {
   "codemirror_mode": {
    "name": "ipython",
    "version": 3
   },
   "file_extension": ".py",
   "mimetype": "text/x-python",
   "name": "python",
   "nbconvert_exporter": "python",
   "pygments_lexer": "ipython3",
   "version": "3.10.9"
  }
 },
 "nbformat": 4,
 "nbformat_minor": 5
}
